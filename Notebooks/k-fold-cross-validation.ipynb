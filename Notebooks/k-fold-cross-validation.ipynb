{
 "cells": [
  {
   "cell_type": "markdown",
   "metadata": {},
   "source": [
    "# k-fold cross validation\n",
    "k-fold cross validation is a procedure used to estimate the skill of the model on new data. There are common tactics that you can use to select the value of k for your dataset. There are commonly used variations on cross-validation, such as stratified and repeated, that are available in scikit-learn"
   ]
  },
  {
   "cell_type": "markdown",
   "metadata": {},
   "source": [
    "we are going to do everything that we did before so refere to Linear-Regression notebook for explanations."
   ]
  },
  {
   "cell_type": "code",
   "execution_count": 1,
   "metadata": {},
   "outputs": [],
   "source": [
    "import numpy as np\n",
    "import pandas as pd"
   ]
  },
  {
   "cell_type": "code",
   "execution_count": 2,
   "metadata": {},
   "outputs": [
    {
     "data": {
      "text/plain": [
       "Index(['Name', 'style', 'Exterior color', 'interior color', 'Engine',\n",
       "       'drive type', 'Fuel Type', 'Transmission', 'Mileage', 'mpg city',\n",
       "       'mpg highway', 'price', 'Year', 'Engine V', 'Brand'],\n",
       "      dtype='object')"
      ]
     },
     "execution_count": 2,
     "metadata": {},
     "output_type": "execute_result"
    }
   ],
   "source": [
    "cars =  pd.read_csv(\"cleaned_data.csv\")\n",
    "cars.columns"
   ]
  },
  {
   "cell_type": "code",
   "execution_count": 3,
   "metadata": {},
   "outputs": [],
   "source": [
    "X =  cars[['Name', 'style', 'Exterior color', 'interior color', 'Engine',\n",
    "       'drive type', 'Fuel Type', 'Transmission', 'Mileage', 'mpg city',\n",
    "       'mpg highway', 'Year', 'Engine V', 'Brand']]\n",
    "\n",
    "\n",
    "Y = cars[\"price\"].values"
   ]
  },
  {
   "cell_type": "code",
   "execution_count": 4,
   "metadata": {},
   "outputs": [],
   "source": [
    "from sklearn.preprocessing import OneHotEncoder\n",
    "\n",
    "onehot = OneHotEncoder(categories=\"auto\", handle_unknown=\"ignore\")\n",
    "\n",
    "categorical_features = onehot.fit_transform(X.iloc[:, [1,4,5,6,7,13]]).toarray()\n",
    "X = np.delete(X.values, [0,1,2,3,4,5,6,7,13], 1)\n",
    "X = np.concatenate((X,categorical_features), axis=1)"
   ]
  },
  {
   "cell_type": "code",
   "execution_count": 5,
   "metadata": {},
   "outputs": [],
   "source": [
    "from sklearn.model_selection import train_test_split\n",
    "\n",
    "x_train, x_test, y_train, y_test = train_test_split(\n",
    "    X, Y,\n",
    "    test_size=0.1,\n",
    "    random_state=42\n",
    ")"
   ]
  },
  {
   "cell_type": "code",
   "execution_count": 6,
   "metadata": {},
   "outputs": [],
   "source": [
    "from sklearn.preprocessing import StandardScaler\n",
    "\n",
    "std_scaler = StandardScaler()\n",
    "std_scaler.fit(x_train)\n",
    "\n",
    "x_train_std = std_scaler.transform(x_train)\n",
    "x_test_std  = std_scaler.transform(x_test)"
   ]
  },
  {
   "cell_type": "code",
   "execution_count": 12,
   "metadata": {},
   "outputs": [
    {
     "name": "stdout",
     "output_type": "stream",
     "text": [
      "Test Accuracy : 0.856\n"
     ]
    }
   ],
   "source": [
    "from sklearn.pipeline import make_pipeline\n",
    "from sklearn.linear_model import LinearRegression\n",
    "from sklearn.decomposition import PCA\n",
    "\n",
    "pip_lr = make_pipeline(\n",
    "    StandardScaler(),\n",
    "    PCA(),\n",
    "    LinearRegression(fit_intercept=True, normalize=\"deprecated\")\n",
    ")\n",
    "pip_lr.fit(x_train_std, y_train)\n",
    "h_pred = pip_lr.predict(x_test)\n",
    "print(\"Test Accuracy : {:.3f}\".format(pip_lr.score(x_test_std, y_test)))"
   ]
  },
  {
   "cell_type": "markdown",
   "metadata": {},
   "source": [
    "### Stratified K-Folds cross-validator.\n",
    "Provides train/test indices to split data in train/test sets.\n",
    "<br><br>\n",
    "This cross-validation object is a variation of KFold that returns stratified folds. The folds are made by preserving the percentage of samples for each class.<br>\n",
    "<a href=\"https://scikit-learn.org/stable/modules/generated/sklearn.model_selection.StratifiedKFold.html\">read full documentation</a>"
   ]
  },
  {
   "cell_type": "code",
   "execution_count": null,
   "metadata": {},
   "outputs": [],
   "source": [
    "from sklearn.model_selection import StratifiedKFold\n",
    "\n",
    "kfold = StratifiedKFold(n_splits=10).split(x_train, y_train)\n",
    "scores = list()\n",
    "\n",
    "for k, (train, test) in enumerate(kfold):\n",
    "\n",
    "        pip_lr.fit(x_train[train], y_train[train])\n",
    "        score = pip_lr.score(x_train[test], y_train[test])\n",
    "        scores.append(score)\n",
    "\n",
    "        print(\"Fold: {}, class dist: {}, ACC: {:.3f}\".format(\n",
    "            k+1,\n",
    "            np.bincount(y_train[train]),\n",
    "            score\n",
    "        ))\n",
    "\n",
    "print(\"CV accuracy: {} +/- {:.2f}\".format(\n",
    "    np.mean(scores),\n",
    "    np.std(scores)\n",
    "))"
   ]
  },
  {
   "cell_type": "markdown",
   "metadata": {},
   "source": [
    "scikit-learn also implements a k-fold cross-validation scorer which alows us evaluate our model using stratified k-fold cross-validation less verbosely:"
   ]
  },
  {
   "cell_type": "code",
   "execution_count": null,
   "metadata": {},
   "outputs": [],
   "source": [
    "from sklearn.model_selection import cross_val_score\n",
    "\n",
    "scores = cross_val_score(\n",
    "    estimator=pip_lr,\n",
    "    X=x_train,\n",
    "    y=y_train,\n",
    "    cv=10,\n",
    "    n_jobs=1\n",
    ")\n",
    "\n",
    "print(\"cv accuracy scores: {}\".format(scores))\n",
    "print(\"cv accuracy: {} +/- {}\".format(\n",
    "    np.mean(scores),\n",
    "    np.std(scores)\n",
    "))"
   ]
  },
  {
   "cell_type": "markdown",
   "metadata": {},
   "source": [
    "Sina Kazemi<br>\n",
    "Github : <a href=\"https://github.com/sina96n/\">sina96n</a>"
   ]
  }
 ],
 "metadata": {
  "interpreter": {
   "hash": "c185bf9c1e848063c50244134de67a6c06852cc4cc16cc99c5c2c09c444ff9fe"
  },
  "kernelspec": {
   "display_name": "Python 3.9.6 64-bit",
   "language": "python",
   "name": "python3"
  },
  "language_info": {
   "codemirror_mode": {
    "name": "ipython",
    "version": 3
   },
   "file_extension": ".py",
   "mimetype": "text/x-python",
   "name": "python",
   "nbconvert_exporter": "python",
   "pygments_lexer": "ipython3",
   "version": "3.8.10"
  },
  "orig_nbformat": 4
 },
 "nbformat": 4,
 "nbformat_minor": 2
}
