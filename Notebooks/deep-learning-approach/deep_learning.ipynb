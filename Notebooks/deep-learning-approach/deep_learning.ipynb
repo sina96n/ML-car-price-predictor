{
  "cells": [
    {
      "cell_type": "code",
      "execution_count": 2,
      "metadata": {
        "colab": {
          "base_uri": "https://localhost:8080/"
        },
        "id": "kPYBNjdUPT9u",
        "outputId": "47bfd805-77c7-4e04-a2cb-ec689c933d0c"
      },
      "outputs": [
        {
          "name": "stdout",
          "output_type": "stream",
          "text": [
            "TensorFlow Version : 2.8.0\n",
            "GPU Available : False\n",
            "Device(s) : PhysicalDevice(name='/physical_device:CPU:0', device_type='CPU')\n",
            "\n",
            "Numpy Version : 1.21.6\n",
            "Pandas Version : 1.3.5\n"
          ]
        }
      ],
      "source": [
        "import matplotlib.pyplot as plt\n",
        "import tensorflow as tf\n",
        "import numpy as np\n",
        "import pandas as pd\n",
        "\n",
        "print(f\"TensorFlow Version : {tf.__version__}\")\n",
        "print(f\"GPU Available : {tf.test.is_gpu_available()}\")\n",
        "device_name = tf.config.list_physical_devices()\n",
        "print(\"Device(s) : {}\".format(*device_name), end=\"\\n\\n\")\n",
        "\n",
        "print(f\"Numpy Version : {np.__version__}\")\n",
        "print(f\"Pandas Version : {pd.__version__}\")"
      ]
    },
    {
      "cell_type": "code",
      "execution_count": 4,
      "metadata": {
        "colab": {
          "base_uri": "https://localhost:8080/",
          "height": 374
        },
        "id": "VUrZlaGvPT90",
        "outputId": "d3b64280-e8cb-4d74-ae5b-80ef4fe2060f"
      },
      "outputs": [
        {
          "name": "stdout",
          "output_type": "stream",
          "text": [
            "datset shape : (6533, 15)\n"
          ]
        },
        {
          "data": {
            "text/html": [
              "\n",
              "  <div id=\"df-117b6d4e-ab0e-4aea-91bb-a5f4d9012eb6\">\n",
              "    <div class=\"colab-df-container\">\n",
              "      <div>\n",
              "<style scoped>\n",
              "    .dataframe tbody tr th:only-of-type {\n",
              "        vertical-align: middle;\n",
              "    }\n",
              "\n",
              "    .dataframe tbody tr th {\n",
              "        vertical-align: top;\n",
              "    }\n",
              "\n",
              "    .dataframe thead th {\n",
              "        text-align: right;\n",
              "    }\n",
              "</style>\n",
              "<table border=\"1\" class=\"dataframe\">\n",
              "  <thead>\n",
              "    <tr style=\"text-align: right;\">\n",
              "      <th></th>\n",
              "      <th>Name</th>\n",
              "      <th>style</th>\n",
              "      <th>Exterior_color</th>\n",
              "      <th>interior_color</th>\n",
              "      <th>Engine</th>\n",
              "      <th>drive_type</th>\n",
              "      <th>Fuel_Type</th>\n",
              "      <th>Transmission</th>\n",
              "      <th>Mileage</th>\n",
              "      <th>mpg_city</th>\n",
              "      <th>mpg_highway</th>\n",
              "      <th>price</th>\n",
              "      <th>Year</th>\n",
              "      <th>Engine_V</th>\n",
              "      <th>Brand</th>\n",
              "    </tr>\n",
              "  </thead>\n",
              "  <tbody>\n",
              "    <tr>\n",
              "      <th>0</th>\n",
              "      <td>Corolla</td>\n",
              "      <td>Sedan</td>\n",
              "      <td>Super White</td>\n",
              "      <td>Unknown</td>\n",
              "      <td>Inline-4 Gas</td>\n",
              "      <td>FWD</td>\n",
              "      <td>Gas</td>\n",
              "      <td>Automatic</td>\n",
              "      <td>20640</td>\n",
              "      <td>28</td>\n",
              "      <td>36</td>\n",
              "      <td>21990</td>\n",
              "      <td>2019</td>\n",
              "      <td>1.8</td>\n",
              "      <td>Toyota</td>\n",
              "    </tr>\n",
              "    <tr>\n",
              "      <th>1</th>\n",
              "      <td>Silverado</td>\n",
              "      <td>Pickup Truck</td>\n",
              "      <td>Black</td>\n",
              "      <td>Jet Black</td>\n",
              "      <td>V-8 Gas</td>\n",
              "      <td>4WD</td>\n",
              "      <td>Gas</td>\n",
              "      <td>Automatic</td>\n",
              "      <td>97308</td>\n",
              "      <td>15</td>\n",
              "      <td>20</td>\n",
              "      <td>37641</td>\n",
              "      <td>2018</td>\n",
              "      <td>5.3</td>\n",
              "      <td>Chevrolet</td>\n",
              "    </tr>\n",
              "    <tr>\n",
              "      <th>2</th>\n",
              "      <td>Fusion</td>\n",
              "      <td>Sedan</td>\n",
              "      <td>Tan</td>\n",
              "      <td>Unknown</td>\n",
              "      <td>Inline-4 Gas</td>\n",
              "      <td>FWD</td>\n",
              "      <td>Gas</td>\n",
              "      <td>Automatic</td>\n",
              "      <td>157471</td>\n",
              "      <td>22</td>\n",
              "      <td>34</td>\n",
              "      <td>8000</td>\n",
              "      <td>2015</td>\n",
              "      <td>2.5</td>\n",
              "      <td>Ford</td>\n",
              "    </tr>\n",
              "    <tr>\n",
              "      <th>3</th>\n",
              "      <td>Cherokee</td>\n",
              "      <td>SUV</td>\n",
              "      <td>Diamond Black Crystal Pearlcoat</td>\n",
              "      <td>Black</td>\n",
              "      <td>Inline-4 Gas</td>\n",
              "      <td>4WD</td>\n",
              "      <td>Gas</td>\n",
              "      <td>Automatic</td>\n",
              "      <td>44816</td>\n",
              "      <td>21</td>\n",
              "      <td>29</td>\n",
              "      <td>25496</td>\n",
              "      <td>2019</td>\n",
              "      <td>2.4</td>\n",
              "      <td>Jeep</td>\n",
              "    </tr>\n",
              "    <tr>\n",
              "      <th>4</th>\n",
              "      <td>Altima</td>\n",
              "      <td>Sedan</td>\n",
              "      <td>Super Black</td>\n",
              "      <td>Light Gray</td>\n",
              "      <td>Inline-4 Gas</td>\n",
              "      <td>FWD</td>\n",
              "      <td>Gas</td>\n",
              "      <td>Automatic</td>\n",
              "      <td>10448</td>\n",
              "      <td>28</td>\n",
              "      <td>39</td>\n",
              "      <td>19791</td>\n",
              "      <td>2019</td>\n",
              "      <td>2.5</td>\n",
              "      <td>Nissan</td>\n",
              "    </tr>\n",
              "  </tbody>\n",
              "</table>\n",
              "</div>\n",
              "      <button class=\"colab-df-convert\" onclick=\"convertToInteractive('df-117b6d4e-ab0e-4aea-91bb-a5f4d9012eb6')\"\n",
              "              title=\"Convert this dataframe to an interactive table.\"\n",
              "              style=\"display:none;\">\n",
              "        \n",
              "  <svg xmlns=\"http://www.w3.org/2000/svg\" height=\"24px\"viewBox=\"0 0 24 24\"\n",
              "       width=\"24px\">\n",
              "    <path d=\"M0 0h24v24H0V0z\" fill=\"none\"/>\n",
              "    <path d=\"M18.56 5.44l.94 2.06.94-2.06 2.06-.94-2.06-.94-.94-2.06-.94 2.06-2.06.94zm-11 1L8.5 8.5l.94-2.06 2.06-.94-2.06-.94L8.5 2.5l-.94 2.06-2.06.94zm10 10l.94 2.06.94-2.06 2.06-.94-2.06-.94-.94-2.06-.94 2.06-2.06.94z\"/><path d=\"M17.41 7.96l-1.37-1.37c-.4-.4-.92-.59-1.43-.59-.52 0-1.04.2-1.43.59L10.3 9.45l-7.72 7.72c-.78.78-.78 2.05 0 2.83L4 21.41c.39.39.9.59 1.41.59.51 0 1.02-.2 1.41-.59l7.78-7.78 2.81-2.81c.8-.78.8-2.07 0-2.86zM5.41 20L4 18.59l7.72-7.72 1.47 1.35L5.41 20z\"/>\n",
              "  </svg>\n",
              "      </button>\n",
              "      \n",
              "  <style>\n",
              "    .colab-df-container {\n",
              "      display:flex;\n",
              "      flex-wrap:wrap;\n",
              "      gap: 12px;\n",
              "    }\n",
              "\n",
              "    .colab-df-convert {\n",
              "      background-color: #E8F0FE;\n",
              "      border: none;\n",
              "      border-radius: 50%;\n",
              "      cursor: pointer;\n",
              "      display: none;\n",
              "      fill: #1967D2;\n",
              "      height: 32px;\n",
              "      padding: 0 0 0 0;\n",
              "      width: 32px;\n",
              "    }\n",
              "\n",
              "    .colab-df-convert:hover {\n",
              "      background-color: #E2EBFA;\n",
              "      box-shadow: 0px 1px 2px rgba(60, 64, 67, 0.3), 0px 1px 3px 1px rgba(60, 64, 67, 0.15);\n",
              "      fill: #174EA6;\n",
              "    }\n",
              "\n",
              "    [theme=dark] .colab-df-convert {\n",
              "      background-color: #3B4455;\n",
              "      fill: #D2E3FC;\n",
              "    }\n",
              "\n",
              "    [theme=dark] .colab-df-convert:hover {\n",
              "      background-color: #434B5C;\n",
              "      box-shadow: 0px 1px 3px 1px rgba(0, 0, 0, 0.15);\n",
              "      filter: drop-shadow(0px 1px 2px rgba(0, 0, 0, 0.3));\n",
              "      fill: #FFFFFF;\n",
              "    }\n",
              "  </style>\n",
              "\n",
              "      <script>\n",
              "        const buttonEl =\n",
              "          document.querySelector('#df-117b6d4e-ab0e-4aea-91bb-a5f4d9012eb6 button.colab-df-convert');\n",
              "        buttonEl.style.display =\n",
              "          google.colab.kernel.accessAllowed ? 'block' : 'none';\n",
              "\n",
              "        async function convertToInteractive(key) {\n",
              "          const element = document.querySelector('#df-117b6d4e-ab0e-4aea-91bb-a5f4d9012eb6');\n",
              "          const dataTable =\n",
              "            await google.colab.kernel.invokeFunction('convertToInteractive',\n",
              "                                                     [key], {});\n",
              "          if (!dataTable) return;\n",
              "\n",
              "          const docLinkHtml = 'Like what you see? Visit the ' +\n",
              "            '<a target=\"_blank\" href=https://colab.research.google.com/notebooks/data_table.ipynb>data table notebook</a>'\n",
              "            + ' to learn more about interactive tables.';\n",
              "          element.innerHTML = '';\n",
              "          dataTable['output_type'] = 'display_data';\n",
              "          await google.colab.output.renderOutput(dataTable, element);\n",
              "          const docLink = document.createElement('div');\n",
              "          docLink.innerHTML = docLinkHtml;\n",
              "          element.appendChild(docLink);\n",
              "        }\n",
              "      </script>\n",
              "    </div>\n",
              "  </div>\n",
              "  "
            ],
            "text/plain": [
              "        Name         style                   Exterior_color interior_color  \\\n",
              "0    Corolla         Sedan                      Super White        Unknown   \n",
              "1  Silverado  Pickup Truck                            Black      Jet Black   \n",
              "2     Fusion         Sedan                              Tan        Unknown   \n",
              "3   Cherokee           SUV  Diamond Black Crystal Pearlcoat          Black   \n",
              "4     Altima         Sedan                      Super Black     Light Gray   \n",
              "\n",
              "         Engine drive_type Fuel_Type Transmission Mileage mpg_city  \\\n",
              "0  Inline-4 Gas        FWD       Gas    Automatic   20640       28   \n",
              "1       V-8 Gas        4WD       Gas    Automatic   97308       15   \n",
              "2  Inline-4 Gas        FWD       Gas    Automatic  157471       22   \n",
              "3  Inline-4 Gas        4WD       Gas    Automatic   44816       21   \n",
              "4  Inline-4 Gas        FWD       Gas    Automatic   10448       28   \n",
              "\n",
              "  mpg_highway  price  Year Engine_V      Brand  \n",
              "0          36  21990  2019      1.8     Toyota  \n",
              "1          20  37641  2018      5.3  Chevrolet  \n",
              "2          34   8000  2015      2.5       Ford  \n",
              "3          29  25496  2019      2.4       Jeep  \n",
              "4          39  19791  2019      2.5     Nissan  "
            ]
          },
          "execution_count": 4,
          "metadata": {},
          "output_type": "execute_result"
        }
      ],
      "source": [
        "from pathlib import Path\n",
        "DATASET_PATH = Path.cwd().parent / \"cleaned_data.csv\"\n",
        "print(f\"dataset path : {DATASET_PATH}\")\n",
        "\n",
        "def shuffle(df, n_iter=10):\n",
        "    df = df.copy()\n",
        "    for _ in range(n_iter):\n",
        "        df = df.sample(frac=1)\n",
        "\n",
        "    return df.reset_index(drop=True)\n",
        "\n",
        "cols = ['Name', 'style', 'Exterior_color', 'interior_color', 'Engine',\n",
        "       'drive_type', 'Fuel_Type', 'Transmission', 'Mileage', 'mpg_city',\n",
        "       'mpg_highway', 'price', 'Year', 'Engine_V', 'Brand']\n",
        "\n",
        "cars = pd.read_csv(DATASET_PATH, names=cols)\n",
        "cars = shuffle(cars, n_iter=10)\n",
        "print(f\"datset shape : {cars.shape}\")\n",
        "cars.head(5)"
      ]
    },
    {
      "cell_type": "code",
      "execution_count": 5,
      "metadata": {
        "colab": {
          "base_uri": "https://localhost:8080/"
        },
        "id": "8KSNy6TjPT91",
        "outputId": "1f1b390d-910a-4014-b755-7283ce53b901"
      },
      "outputs": [
        {
          "name": "stdout",
          "output_type": "stream",
          "text": [
            "<class 'pandas.core.frame.DataFrame'>\n",
            "RangeIndex: 6533 entries, 0 to 6532\n",
            "Data columns (total 15 columns):\n",
            " #   Column          Non-Null Count  Dtype \n",
            "---  ------          --------------  ----- \n",
            " 0   Name            6292 non-null   object\n",
            " 1   style           6533 non-null   object\n",
            " 2   Exterior_color  6533 non-null   object\n",
            " 3   interior_color  6533 non-null   object\n",
            " 4   Engine          6533 non-null   object\n",
            " 5   drive_type      6533 non-null   object\n",
            " 6   Fuel_Type       6533 non-null   object\n",
            " 7   Transmission    6533 non-null   object\n",
            " 8   Mileage         6533 non-null   object\n",
            " 9   mpg_city        6533 non-null   object\n",
            " 10  mpg_highway     6533 non-null   object\n",
            " 11  price           6533 non-null   object\n",
            " 12  Year            6533 non-null   object\n",
            " 13  Engine_V        6533 non-null   object\n",
            " 14  Brand           6533 non-null   object\n",
            "dtypes: object(15)\n",
            "memory usage: 765.7+ KB\n"
          ]
        }
      ],
      "source": [
        "cars.info()"
      ]
    },
    {
      "cell_type": "code",
      "execution_count": 6,
      "metadata": {
        "colab": {
          "base_uri": "https://localhost:8080/"
        },
        "id": "Qan5NiBoPT92",
        "outputId": "f710b59b-fe6a-4dbb-9a34-9b966d89d863"
      },
      "outputs": [
        {
          "data": {
            "text/plain": [
              "(6292, 15)"
            ]
          },
          "execution_count": 6,
          "metadata": {},
          "output_type": "execute_result"
        }
      ],
      "source": [
        "cars = cars.dropna().reset_index(drop=True)\n",
        "cars.shape"
      ]
    },
    {
      "cell_type": "code",
      "execution_count": 7,
      "metadata": {
        "colab": {
          "base_uri": "https://localhost:8080/"
        },
        "id": "VAtcideOPT92",
        "outputId": "5b332524-ef94-49c4-c9e4-7e12afbbc210"
      },
      "outputs": [
        {
          "name": "stdout",
          "output_type": "stream",
          "text": [
            "none-numeric value available with index(s) : Int64Index([1086], dtype='int64')\n",
            "dataet shape : (6291, 15)\n"
          ]
        }
      ],
      "source": [
        "i = cars[cars.Mileage.str.isdigit() == False].index\n",
        "print(f\"none-numeric value available with index(s) : {i}\")\n",
        "cars.drop(i, axis=0, inplace=True)\n",
        "print(f\"dataet shape : {cars.shape}\")"
      ]
    },
    {
      "cell_type": "code",
      "execution_count": 8,
      "metadata": {
        "id": "-upEYUXXPT93"
      },
      "outputs": [],
      "source": [
        "cars = cars.astype({\"Mileage\" : np.int32, \"mpg_city\" : np.int8, \"mpg_highway\" : np.int8,\n",
        "                    \"price\" : np.int32, \"Year\" : np.int32, \"Engine_V\" : np.float32})"
      ]
    },
    {
      "cell_type": "code",
      "execution_count": 9,
      "metadata": {
        "colab": {
          "base_uri": "https://localhost:8080/",
          "height": 476
        },
        "id": "YMhN0hUWPT94",
        "outputId": "28c4a518-69e6-42b3-b0e7-be98d735d260"
      },
      "outputs": [
        {
          "data": {
            "text/html": [
              "\n",
              "  <div id=\"df-8aa8e8c6-4f7c-40a6-9766-7e324d3d71f1\">\n",
              "    <div class=\"colab-df-container\">\n",
              "      <div>\n",
              "<style scoped>\n",
              "    .dataframe tbody tr th:only-of-type {\n",
              "        vertical-align: middle;\n",
              "    }\n",
              "\n",
              "    .dataframe tbody tr th {\n",
              "        vertical-align: top;\n",
              "    }\n",
              "\n",
              "    .dataframe thead th {\n",
              "        text-align: right;\n",
              "    }\n",
              "</style>\n",
              "<table border=\"1\" class=\"dataframe\">\n",
              "  <thead>\n",
              "    <tr style=\"text-align: right;\">\n",
              "      <th></th>\n",
              "      <th>Name</th>\n",
              "      <th>style</th>\n",
              "      <th>Exterior_color</th>\n",
              "      <th>interior_color</th>\n",
              "      <th>Engine</th>\n",
              "      <th>drive_type</th>\n",
              "      <th>Fuel_Type</th>\n",
              "      <th>Transmission</th>\n",
              "      <th>Mileage</th>\n",
              "      <th>mpg_city</th>\n",
              "      <th>mpg_highway</th>\n",
              "      <th>price</th>\n",
              "      <th>Year</th>\n",
              "      <th>Engine_V</th>\n",
              "      <th>Brand</th>\n",
              "    </tr>\n",
              "  </thead>\n",
              "  <tbody>\n",
              "    <tr>\n",
              "      <th>count</th>\n",
              "      <td>6291</td>\n",
              "      <td>6291</td>\n",
              "      <td>6291</td>\n",
              "      <td>6291</td>\n",
              "      <td>6291</td>\n",
              "      <td>6291</td>\n",
              "      <td>6291</td>\n",
              "      <td>6291</td>\n",
              "      <td>6291.000000</td>\n",
              "      <td>6291.000000</td>\n",
              "      <td>6291.000000</td>\n",
              "      <td>6291.000000</td>\n",
              "      <td>6291.000000</td>\n",
              "      <td>6291.000000</td>\n",
              "      <td>6291</td>\n",
              "    </tr>\n",
              "    <tr>\n",
              "      <th>unique</th>\n",
              "      <td>268</td>\n",
              "      <td>9</td>\n",
              "      <td>526</td>\n",
              "      <td>305</td>\n",
              "      <td>30</td>\n",
              "      <td>4</td>\n",
              "      <td>3</td>\n",
              "      <td>2</td>\n",
              "      <td>NaN</td>\n",
              "      <td>NaN</td>\n",
              "      <td>NaN</td>\n",
              "      <td>NaN</td>\n",
              "      <td>NaN</td>\n",
              "      <td>NaN</td>\n",
              "      <td>43</td>\n",
              "    </tr>\n",
              "    <tr>\n",
              "      <th>top</th>\n",
              "      <td>F-150</td>\n",
              "      <td>SUV</td>\n",
              "      <td>Black</td>\n",
              "      <td>Black</td>\n",
              "      <td>Inline-4 Gas</td>\n",
              "      <td>FWD</td>\n",
              "      <td>Gas</td>\n",
              "      <td>Automatic</td>\n",
              "      <td>NaN</td>\n",
              "      <td>NaN</td>\n",
              "      <td>NaN</td>\n",
              "      <td>NaN</td>\n",
              "      <td>NaN</td>\n",
              "      <td>NaN</td>\n",
              "      <td>Ford</td>\n",
              "    </tr>\n",
              "    <tr>\n",
              "      <th>freq</th>\n",
              "      <td>1238</td>\n",
              "      <td>2084</td>\n",
              "      <td>447</td>\n",
              "      <td>2112</td>\n",
              "      <td>1682</td>\n",
              "      <td>2628</td>\n",
              "      <td>6236</td>\n",
              "      <td>6172</td>\n",
              "      <td>NaN</td>\n",
              "      <td>NaN</td>\n",
              "      <td>NaN</td>\n",
              "      <td>NaN</td>\n",
              "      <td>NaN</td>\n",
              "      <td>NaN</td>\n",
              "      <td>2017</td>\n",
              "    </tr>\n",
              "    <tr>\n",
              "      <th>mean</th>\n",
              "      <td>NaN</td>\n",
              "      <td>NaN</td>\n",
              "      <td>NaN</td>\n",
              "      <td>NaN</td>\n",
              "      <td>NaN</td>\n",
              "      <td>NaN</td>\n",
              "      <td>NaN</td>\n",
              "      <td>NaN</td>\n",
              "      <td>63799.074710</td>\n",
              "      <td>21.384677</td>\n",
              "      <td>28.478779</td>\n",
              "      <td>26076.222222</td>\n",
              "      <td>2017.224130</td>\n",
              "      <td>2.963847</td>\n",
              "      <td>NaN</td>\n",
              "    </tr>\n",
              "    <tr>\n",
              "      <th>std</th>\n",
              "      <td>NaN</td>\n",
              "      <td>NaN</td>\n",
              "      <td>NaN</td>\n",
              "      <td>NaN</td>\n",
              "      <td>NaN</td>\n",
              "      <td>NaN</td>\n",
              "      <td>NaN</td>\n",
              "      <td>NaN</td>\n",
              "      <td>42846.042218</td>\n",
              "      <td>5.059630</td>\n",
              "      <td>6.257535</td>\n",
              "      <td>11087.348287</td>\n",
              "      <td>3.010157</td>\n",
              "      <td>1.187817</td>\n",
              "      <td>NaN</td>\n",
              "    </tr>\n",
              "    <tr>\n",
              "      <th>min</th>\n",
              "      <td>NaN</td>\n",
              "      <td>NaN</td>\n",
              "      <td>NaN</td>\n",
              "      <td>NaN</td>\n",
              "      <td>NaN</td>\n",
              "      <td>NaN</td>\n",
              "      <td>NaN</td>\n",
              "      <td>NaN</td>\n",
              "      <td>143.000000</td>\n",
              "      <td>10.000000</td>\n",
              "      <td>16.000000</td>\n",
              "      <td>2000.000000</td>\n",
              "      <td>1997.000000</td>\n",
              "      <td>1.000000</td>\n",
              "      <td>NaN</td>\n",
              "    </tr>\n",
              "    <tr>\n",
              "      <th>25%</th>\n",
              "      <td>NaN</td>\n",
              "      <td>NaN</td>\n",
              "      <td>NaN</td>\n",
              "      <td>NaN</td>\n",
              "      <td>NaN</td>\n",
              "      <td>NaN</td>\n",
              "      <td>NaN</td>\n",
              "      <td>NaN</td>\n",
              "      <td>32078.000000</td>\n",
              "      <td>18.000000</td>\n",
              "      <td>23.000000</td>\n",
              "      <td>17990.000000</td>\n",
              "      <td>2017.000000</td>\n",
              "      <td>2.000000</td>\n",
              "      <td>NaN</td>\n",
              "    </tr>\n",
              "    <tr>\n",
              "      <th>50%</th>\n",
              "      <td>NaN</td>\n",
              "      <td>NaN</td>\n",
              "      <td>NaN</td>\n",
              "      <td>NaN</td>\n",
              "      <td>NaN</td>\n",
              "      <td>NaN</td>\n",
              "      <td>NaN</td>\n",
              "      <td>NaN</td>\n",
              "      <td>52443.000000</td>\n",
              "      <td>20.000000</td>\n",
              "      <td>27.000000</td>\n",
              "      <td>24999.000000</td>\n",
              "      <td>2018.000000</td>\n",
              "      <td>2.500000</td>\n",
              "      <td>NaN</td>\n",
              "    </tr>\n",
              "    <tr>\n",
              "      <th>75%</th>\n",
              "      <td>NaN</td>\n",
              "      <td>NaN</td>\n",
              "      <td>NaN</td>\n",
              "      <td>NaN</td>\n",
              "      <td>NaN</td>\n",
              "      <td>NaN</td>\n",
              "      <td>NaN</td>\n",
              "      <td>NaN</td>\n",
              "      <td>86788.000000</td>\n",
              "      <td>25.000000</td>\n",
              "      <td>34.000000</td>\n",
              "      <td>33951.500000</td>\n",
              "      <td>2019.000000</td>\n",
              "      <td>3.600000</td>\n",
              "      <td>NaN</td>\n",
              "    </tr>\n",
              "    <tr>\n",
              "      <th>max</th>\n",
              "      <td>NaN</td>\n",
              "      <td>NaN</td>\n",
              "      <td>NaN</td>\n",
              "      <td>NaN</td>\n",
              "      <td>NaN</td>\n",
              "      <td>NaN</td>\n",
              "      <td>NaN</td>\n",
              "      <td>NaN</td>\n",
              "      <td>380309.000000</td>\n",
              "      <td>60.000000</td>\n",
              "      <td>53.000000</td>\n",
              "      <td>115500.000000</td>\n",
              "      <td>2021.000000</td>\n",
              "      <td>6.400000</td>\n",
              "      <td>NaN</td>\n",
              "    </tr>\n",
              "  </tbody>\n",
              "</table>\n",
              "</div>\n",
              "      <button class=\"colab-df-convert\" onclick=\"convertToInteractive('df-8aa8e8c6-4f7c-40a6-9766-7e324d3d71f1')\"\n",
              "              title=\"Convert this dataframe to an interactive table.\"\n",
              "              style=\"display:none;\">\n",
              "        \n",
              "  <svg xmlns=\"http://www.w3.org/2000/svg\" height=\"24px\"viewBox=\"0 0 24 24\"\n",
              "       width=\"24px\">\n",
              "    <path d=\"M0 0h24v24H0V0z\" fill=\"none\"/>\n",
              "    <path d=\"M18.56 5.44l.94 2.06.94-2.06 2.06-.94-2.06-.94-.94-2.06-.94 2.06-2.06.94zm-11 1L8.5 8.5l.94-2.06 2.06-.94-2.06-.94L8.5 2.5l-.94 2.06-2.06.94zm10 10l.94 2.06.94-2.06 2.06-.94-2.06-.94-.94-2.06-.94 2.06-2.06.94z\"/><path d=\"M17.41 7.96l-1.37-1.37c-.4-.4-.92-.59-1.43-.59-.52 0-1.04.2-1.43.59L10.3 9.45l-7.72 7.72c-.78.78-.78 2.05 0 2.83L4 21.41c.39.39.9.59 1.41.59.51 0 1.02-.2 1.41-.59l7.78-7.78 2.81-2.81c.8-.78.8-2.07 0-2.86zM5.41 20L4 18.59l7.72-7.72 1.47 1.35L5.41 20z\"/>\n",
              "  </svg>\n",
              "      </button>\n",
              "      \n",
              "  <style>\n",
              "    .colab-df-container {\n",
              "      display:flex;\n",
              "      flex-wrap:wrap;\n",
              "      gap: 12px;\n",
              "    }\n",
              "\n",
              "    .colab-df-convert {\n",
              "      background-color: #E8F0FE;\n",
              "      border: none;\n",
              "      border-radius: 50%;\n",
              "      cursor: pointer;\n",
              "      display: none;\n",
              "      fill: #1967D2;\n",
              "      height: 32px;\n",
              "      padding: 0 0 0 0;\n",
              "      width: 32px;\n",
              "    }\n",
              "\n",
              "    .colab-df-convert:hover {\n",
              "      background-color: #E2EBFA;\n",
              "      box-shadow: 0px 1px 2px rgba(60, 64, 67, 0.3), 0px 1px 3px 1px rgba(60, 64, 67, 0.15);\n",
              "      fill: #174EA6;\n",
              "    }\n",
              "\n",
              "    [theme=dark] .colab-df-convert {\n",
              "      background-color: #3B4455;\n",
              "      fill: #D2E3FC;\n",
              "    }\n",
              "\n",
              "    [theme=dark] .colab-df-convert:hover {\n",
              "      background-color: #434B5C;\n",
              "      box-shadow: 0px 1px 3px 1px rgba(0, 0, 0, 0.15);\n",
              "      filter: drop-shadow(0px 1px 2px rgba(0, 0, 0, 0.3));\n",
              "      fill: #FFFFFF;\n",
              "    }\n",
              "  </style>\n",
              "\n",
              "      <script>\n",
              "        const buttonEl =\n",
              "          document.querySelector('#df-8aa8e8c6-4f7c-40a6-9766-7e324d3d71f1 button.colab-df-convert');\n",
              "        buttonEl.style.display =\n",
              "          google.colab.kernel.accessAllowed ? 'block' : 'none';\n",
              "\n",
              "        async function convertToInteractive(key) {\n",
              "          const element = document.querySelector('#df-8aa8e8c6-4f7c-40a6-9766-7e324d3d71f1');\n",
              "          const dataTable =\n",
              "            await google.colab.kernel.invokeFunction('convertToInteractive',\n",
              "                                                     [key], {});\n",
              "          if (!dataTable) return;\n",
              "\n",
              "          const docLinkHtml = 'Like what you see? Visit the ' +\n",
              "            '<a target=\"_blank\" href=https://colab.research.google.com/notebooks/data_table.ipynb>data table notebook</a>'\n",
              "            + ' to learn more about interactive tables.';\n",
              "          element.innerHTML = '';\n",
              "          dataTable['output_type'] = 'display_data';\n",
              "          await google.colab.output.renderOutput(dataTable, element);\n",
              "          const docLink = document.createElement('div');\n",
              "          docLink.innerHTML = docLinkHtml;\n",
              "          element.appendChild(docLink);\n",
              "        }\n",
              "      </script>\n",
              "    </div>\n",
              "  </div>\n",
              "  "
            ],
            "text/plain": [
              "         Name style Exterior_color interior_color        Engine drive_type  \\\n",
              "count    6291  6291           6291           6291          6291       6291   \n",
              "unique    268     9            526            305            30          4   \n",
              "top     F-150   SUV          Black          Black  Inline-4 Gas        FWD   \n",
              "freq     1238  2084            447           2112          1682       2628   \n",
              "mean      NaN   NaN            NaN            NaN           NaN        NaN   \n",
              "std       NaN   NaN            NaN            NaN           NaN        NaN   \n",
              "min       NaN   NaN            NaN            NaN           NaN        NaN   \n",
              "25%       NaN   NaN            NaN            NaN           NaN        NaN   \n",
              "50%       NaN   NaN            NaN            NaN           NaN        NaN   \n",
              "75%       NaN   NaN            NaN            NaN           NaN        NaN   \n",
              "max       NaN   NaN            NaN            NaN           NaN        NaN   \n",
              "\n",
              "       Fuel_Type Transmission        Mileage     mpg_city  mpg_highway  \\\n",
              "count       6291         6291    6291.000000  6291.000000  6291.000000   \n",
              "unique         3            2            NaN          NaN          NaN   \n",
              "top          Gas    Automatic            NaN          NaN          NaN   \n",
              "freq        6236         6172            NaN          NaN          NaN   \n",
              "mean         NaN          NaN   63799.074710    21.384677    28.478779   \n",
              "std          NaN          NaN   42846.042218     5.059630     6.257535   \n",
              "min          NaN          NaN     143.000000    10.000000    16.000000   \n",
              "25%          NaN          NaN   32078.000000    18.000000    23.000000   \n",
              "50%          NaN          NaN   52443.000000    20.000000    27.000000   \n",
              "75%          NaN          NaN   86788.000000    25.000000    34.000000   \n",
              "max          NaN          NaN  380309.000000    60.000000    53.000000   \n",
              "\n",
              "                price         Year     Engine_V Brand  \n",
              "count     6291.000000  6291.000000  6291.000000  6291  \n",
              "unique            NaN          NaN          NaN    43  \n",
              "top               NaN          NaN          NaN  Ford  \n",
              "freq              NaN          NaN          NaN  2017  \n",
              "mean     26076.222222  2017.224130     2.963847   NaN  \n",
              "std      11087.348287     3.010157     1.187817   NaN  \n",
              "min       2000.000000  1997.000000     1.000000   NaN  \n",
              "25%      17990.000000  2017.000000     2.000000   NaN  \n",
              "50%      24999.000000  2018.000000     2.500000   NaN  \n",
              "75%      33951.500000  2019.000000     3.600000   NaN  \n",
              "max     115500.000000  2021.000000     6.400000   NaN  "
            ]
          },
          "execution_count": 9,
          "metadata": {},
          "output_type": "execute_result"
        }
      ],
      "source": [
        "cars.describe(include=\"all\")"
      ]
    },
    {
      "cell_type": "code",
      "execution_count": 10,
      "metadata": {
        "colab": {
          "base_uri": "https://localhost:8080/",
          "height": 514
        },
        "id": "5s09wk5GPT95",
        "outputId": "6c5277b9-d599-4bff-8c73-997d08e69612"
      },
      "outputs": [
        {
          "data": {
            "image/png": "[encoded data removed]",
            "text/plain": [
              "<Figure size 1440x648 with 6 Axes>"
            ]
          },
          "metadata": {
            "needs_background": "light"
          },
          "output_type": "display_data"
        }
      ],
      "source": [
        "fig , axes = plt.subplots(nrows=2, ncols=3, figsize=(20,9))\n",
        "\n",
        "target = cars[\"price\"]\n",
        "features = ['style', 'Mileage', 'mpg_city',\n",
        "            'mpg_highway', 'Year', 'price']\n",
        "\n",
        "axes = axes.flatten()\n",
        "for i in range(6):\n",
        "    feature = features[i]\n",
        "    axes[i].plot(cars[feature], target, \"bo\")\n",
        "    axes[i].set_xlabel(feature)\n",
        "    axes[i].set_ylabel(\"price\")\n",
        "\n",
        "plt.show()"
      ]
    },
    {
      "cell_type": "code",
      "execution_count": 11,
      "metadata": {
        "colab": {
          "base_uri": "https://localhost:8080/"
        },
        "id": "UiXG9lzYPT95",
        "outputId": "e64aafcc-bc82-4ed2-ef66-0f70a79a27f5"
      },
      "outputs": [
        {
          "name": "stdout",
          "output_type": "stream",
          "text": [
            "Training Dataset shape : (4025, 15)\n",
            "Validation Dataset shape : (1007, 15)\n",
            "Test Dataset shape : (1259, 15)\n"
          ]
        }
      ],
      "source": [
        "from sklearn.model_selection import train_test_split\n",
        "\n",
        "TEST_SIZE = 0.20\n",
        "train, test = train_test_split(cars, test_size=TEST_SIZE, random_state=42)\n",
        "train, val = train_test_split(train, test_size=TEST_SIZE, random_state=42)\n",
        "\n",
        "print(f\"Training Dataset shape : {train.shape}\")\n",
        "print(f\"Validation Dataset shape : {val.shape}\")\n",
        "print(f\"Test Dataset shape : {test.shape}\")"
      ]
    },
    {
      "cell_type": "code",
      "execution_count": null,
      "metadata": {
        "id": "gdlvW0E1PT96",
        "outputId": "b9c98112-fae5-46fb-deb6-78e3491e8361"
      },
      "outputs": [
        {
          "name": "stdout",
          "output_type": "stream",
          "text": [
            "Training Dataset shape : (5033, 15)\n",
            "Testing Dataset shape : (1258, 15)\n"
          ]
        }
      ],
      "source": [
        "TRAIN_SIZE = 0.80\n",
        "number_of_samples = cars.shape[0]\n",
        "number_of_training_samples = int(np.ceil(number_of_samples * TRAIN_SIZE))\n",
        "\n",
        "df_train = cars.iloc[:number_of_training_samples , :]\n",
        "df_eval  = cars.iloc[number_of_training_samples : , :]\n",
        "\n",
        "print(f\"Training Dataset shape : {df_train.shape}\")\n",
        "print(f\"Testing Dataset shape : {df_eval.shape}\")"
      ]
    },
    {
      "cell_type": "code",
      "execution_count": 12,
      "metadata": {
        "colab": {
          "base_uri": "https://localhost:8080/"
        },
        "id": "nX4KPOQZPT97",
        "outputId": "27364b81-9d02-467a-cf3e-4132ec88d968"
      },
      "outputs": [
        {
          "data": {
            "text/plain": [
              "Index(['Name', 'style', 'Exterior_color', 'interior_color', 'Engine',\n",
              "       'drive_type', 'Fuel_Type', 'Transmission', 'Mileage', 'mpg_city',\n",
              "       'mpg_highway', 'price', 'Year', 'Engine_V', 'Brand'],\n",
              "      dtype='object')"
            ]
          },
          "execution_count": 12,
          "metadata": {},
          "output_type": "execute_result"
        }
      ],
      "source": [
        "columns = cars.columns\n",
        "columns"
      ]
    },
    {
      "cell_type": "code",
      "execution_count": 13,
      "metadata": {
        "colab": {
          "base_uri": "https://localhost:8080/"
        },
        "id": "cvQYSrT_PT98",
        "outputId": "94408466-b220-42e4-d375-34f1f88004d1"
      },
      "outputs": [
        {
          "name": "stdout",
          "output_type": "stream",
          "text": [
            "Number of categorical features : 9\n",
            "Number of numerical features : 5\n",
            "Total number of columns : 14\n"
          ]
        }
      ],
      "source": [
        "categorical_columns = ['Name', 'style', 'Exterior_color', 'interior_color', 'Engine',\n",
        "                       'drive_type', 'Fuel_Type', 'Transmission', 'Brand']\n",
        "numerical_columns = ['Mileage', 'mpg_city',\n",
        "                     'mpg_highway', 'Year', 'Engine_V']\n",
        "\n",
        "categorical_features = list()\n",
        "for col_name in categorical_columns:\n",
        "    vocabulary =  cars[col_name].unique()\n",
        "    category = tf.feature_column.categorical_column_with_vocabulary_list(key=col_name,\n",
        "                                                                         vocabulary_list=vocabulary,)\n",
        "    indicator_column = tf.feature_column.indicator_column(category)  \n",
        "    categorical_features.append(indicator_column)\n",
        "\n",
        "numerical_features = list()\n",
        "for col_name in numerical_columns:\n",
        "    numerical_features.append(\n",
        "        tf.feature_column.numeric_column(key=col_name, dtype=tf.float32))\n",
        "\n",
        "feature_columns = categorical_features + numerical_features\n",
        "\n",
        "print(f\"Number of categorical features : {len(categorical_features)}\")\n",
        "print(f\"Number of numerical features : {len(numerical_features)}\")\n",
        "print(f\"Total number of columns : {len(feature_columns)}\")"
      ]
    },
    {
      "cell_type": "code",
      "execution_count": 14,
      "metadata": {
        "id": "6YU3vhyfPT99"
      },
      "outputs": [],
      "source": [
        "def df_to_dataset(dataframe, shuffle=True, batch_size=32):\n",
        "    dataframe = dataframe.copy()\n",
        "    features, target = dataframe, dataframe.pop(\"price\")\n",
        "\n",
        "    dataset = tf.data.Dataset.from_tensor_slices(\n",
        "        (dict(features), target)\n",
        "    )\n",
        "    if shuffle:\n",
        "        dataset = dataset.shuffle(buffer_size=len(features))\n",
        "    dataset = dataset.batch(batch_size=batch_size)\n",
        "    return dataset"
      ]
    },
    {
      "cell_type": "code",
      "execution_count": 15,
      "metadata": {
        "id": "Icw05vD7PT99"
      },
      "outputs": [],
      "source": [
        "train_ds = df_to_dataset(train, shuffle=True, batch_size=32)\n",
        "val_ds = df_to_dataset(val, shuffle=True, batch_size=10)\n",
        "test_ds = df_to_dataset(test, shuffle=True, batch_size=10)"
      ]
    },
    {
      "cell_type": "code",
      "execution_count": 16,
      "metadata": {
        "colab": {
          "base_uri": "https://localhost:8080/"
        },
        "id": "qksdYKe9PT9-",
        "outputId": "c2a91c98-86bf-4286-be8e-15820da2a264"
      },
      "outputs": [
        {
          "name": "stdout",
          "output_type": "stream",
          "text": [
            "Every feature: ['Name', 'style', 'Exterior_color', 'interior_color', 'Engine', 'drive_type', 'Fuel_Type', 'Transmission', 'Mileage', 'mpg_city', 'mpg_highway', 'Year', 'Engine_V', 'Brand']\n",
            "None\n",
            "A batch of targets: tf.Tensor(\n",
            "[17997 34500 18288 24943 10990 19000 27750 30000 11999 45991 27992 28925\n",
            " 13995 17985 13000 35798 30000 19400 50990 34500  8500 33945 33999 40009\n",
            " 54008 18991 27999 12900 32590 36450 17497 28200], shape=(32,), dtype=int32)\n"
          ]
        }
      ],
      "source": [
        "sample = train_ds.take(1)\n",
        "for feature_batch, label_batch in sample:\n",
        "    print(print('Every feature:', list(feature_batch.keys())))\n",
        "    print('A batch of targets:', label_batch )"
      ]
    },
    {
      "cell_type": "code",
      "execution_count": 17,
      "metadata": {
        "id": "wt_UIu4zPT9-"
      },
      "outputs": [],
      "source": [
        "predictor = tf.keras.models.Sequential(\n",
        "    [\n",
        "        tf.keras.layers.DenseFeatures(feature_columns),\n",
        "        tf.keras.layers.Normalization(),\n",
        "\n",
        "        tf.keras.layers.Dense(\n",
        "            64, activation=\"relu\", use_bias=True,\n",
        "            kernel_initializer=\"glorot_uniform\", name=\"FC_1\"\n",
        "        ),\n",
        "\n",
        "        tf.keras.layers.Dense(\n",
        "            32, activation=\"relu\", use_bias=True,\n",
        "            kernel_initializer=\"glorot_uniform\", name=\"FC_2\"\n",
        "        ),\n",
        "\n",
        "        tf.keras.layers.Dense(\n",
        "            10, activation=\"relu\", use_bias=True,\n",
        "            kernel_initializer=\"glorot_uniform\", name=\"FC_3\"\n",
        "        ),\n",
        "\n",
        "        tf.keras.layers.Dense(\n",
        "            1, activation=None, use_bias=True,\n",
        "            kernel_initializer=\"glorot_uniform\", name=\"Output\"\n",
        "        ),\n",
        "    ],\n",
        "    name=\"CAR_PRICE_PREDICTOR\"\n",
        ")\n",
        "\n",
        "predictor.compile(\n",
        "    optimizer = tf.keras.optimizers.Adam(learning_rate=1e-3),\n",
        "    loss = tf.keras.losses.MeanSquaredError(),\n",
        "    metrics = [\n",
        "        tf.keras.metrics.MeanAbsoluteError()\n",
        "    ]\n",
        ")"
      ]
    },
    {
      "cell_type": "code",
      "execution_count": null,
      "metadata": {
        "colab": {
          "base_uri": "https://localhost:8080/"
        },
        "id": "Qe_cukBoPT9_",
        "outputId": "35ab9081-cf2d-40ad-fea4-9480b39e77c2"
      },
      "outputs": [],
      "source": [
        "history = predictor.fit(\n",
        "    train_ds, epochs=400, verbose=1,\n",
        "    validation_data=val_ds\n",
        ")"
      ]
    },
    {
      "cell_type": "code",
      "execution_count": 20,
      "metadata": {
        "colab": {
          "base_uri": "https://localhost:8080/"
        },
        "id": "gES5wIz5eztN",
        "outputId": "dcf72c8c-a3bc-4687-9a91-0257818a419f"
      },
      "outputs": [
        {
          "data": {
            "text/plain": [
              "dict_keys(['loss', 'mean_absolute_error', 'val_loss', 'val_mean_absolute_error'])"
            ]
          },
          "execution_count": 20,
          "metadata": {},
          "output_type": "execute_result"
        }
      ],
      "source": [
        "history.history.keys()"
      ]
    },
    {
      "cell_type": "code",
      "execution_count": 22,
      "metadata": {
        "colab": {
          "base_uri": "https://localhost:8080/",
          "height": 276
        },
        "id": "UGsd5T0Let9o",
        "outputId": "461c7be1-e9a0-46d2-dd9c-2b94c6cf32c2"
      },
      "outputs": [
        {
          "data": {
            "image/png": "[encoded data removed]",
            "text/plain": [
              "<Figure size 576x288 with 2 Axes>"
            ]
          },
          "metadata": {
            "needs_background": "light"
          },
          "output_type": "display_data"
        }
      ],
      "source": [
        "fig, ax = plt.subplots(nrows=1, ncols=2, figsize=(8,4))\n",
        "hist = history.history\n",
        "\n",
        "ax[0].plot(hist[\"loss\"], label=\"Train MSE\")\n",
        "ax[0].plot(hist[\"val_loss\"], label=\"Validation MSE\")\n",
        "ax[0].legend()\n",
        "\n",
        "ax[1].plot(hist[\"mean_absolute_error\"], label=\"Train MAE\")\n",
        "ax[1].plot(hist[\"val_mean_absolute_error\"], label=\"Validation MAE\")\n",
        "ax[1].legend()\n",
        "\n",
        "plt.show()"
      ]
    },
    {
      "cell_type": "code",
      "execution_count": 24,
      "metadata": {
        "colab": {
          "base_uri": "https://localhost:8080/"
        },
        "id": "kx-GmwojfOS9",
        "outputId": "d729e840-774a-4973-e0d8-d6663062a12e"
      },
      "outputs": [
        {
          "name": "stdout",
          "output_type": "stream",
          "text": [
            "126/126 [==============================] - 0s 3ms/step - loss: 21291952.0000 - mean_absolute_error: 3237.1460\n"
          ]
        },
        {
          "data": {
            "text/plain": [
              "[21291952.0, 3237.14599609375]"
            ]
          },
          "execution_count": 24,
          "metadata": {},
          "output_type": "execute_result"
        }
      ],
      "source": [
        "val_history = predictor.evaluate(\n",
        "    test_ds\n",
        ")\n",
        "\n",
        "val_history"
      ]
    },
    {
      "cell_type": "code",
      "execution_count": null,
      "metadata": {
        "colab": {
          "base_uri": "https://localhost:8080/"
        },
        "id": "tiiQ3xpZfbH5",
        "outputId": "a73a64f9-99b7-4884-cefb-3ead3c6dd2c2"
      },
      "outputs": [],
      "source": [
        "predictor.save(\n",
        "    \"saved_model/CarPricePredictor\"\n",
        ")"
      ]
    },
    {
      "cell_type": "code",
      "execution_count": 28,
      "metadata": {
        "colab": {
          "base_uri": "https://localhost:8080/"
        },
        "id": "T9d3bNkUgC_T",
        "outputId": "c524a670-bbd6-4158-9c4f-9028b1b0feb2"
      },
      "outputs": [
        {
          "name": "stdout",
          "output_type": "stream",
          "text": [
            "  adding: saved_model/CarPricePredictor/ (stored 0%)\n",
            "  adding: saved_model/CarPricePredictor/keras_metadata.pb (deflated 83%)\n",
            "  adding: saved_model/CarPricePredictor/saved_model.pb (deflated 88%)\n",
            "  adding: saved_model/CarPricePredictor/variables/ (stored 0%)\n",
            "  adding: saved_model/CarPricePredictor/variables/variables.data-00000-of-00001 (deflated 32%)\n",
            "  adding: saved_model/CarPricePredictor/variables/variables.index (deflated 64%)\n",
            "  adding: saved_model/CarPricePredictor/assets/ (stored 0%)\n"
          ]
        }
      ],
      "source": [
        "!zip -r CarPricePredictor.zip saved_model/CarPricePredictor"
      ]
    }
  ],
  "metadata": {
    "accelerator": "TPU",
    "colab": {
      "name": "deep_learning.ipynb",
      "provenance": []
    },
    "interpreter": {
      "hash": "7ab1b3b9c0c9f281d6bc953a53ef072fab980f11978a31dd5e3f47f782640e38"
    },
    "kernelspec": {
      "display_name": "Python 3.9.7 64-bit",
      "language": "python",
      "name": "python3"
    },
    "language_info": {
      "codemirror_mode": {
        "name": "ipython",
        "version": 3
      },
      "file_extension": ".py",
      "mimetype": "text/x-python",
      "name": "python",
      "nbconvert_exporter": "python",
      "pygments_lexer": "ipython3",
      "version": "3.9.7"
    },
    "orig_nbformat": 4
  },
  "nbformat": 4,
  "nbformat_minor": 0
}
