{
 "cells": [
  {
   "cell_type": "code",
   "execution_count": 6,
   "metadata": {},
   "outputs": [
    {
     "name": "stdout",
     "output_type": "stream",
     "text": [
      "Tensorflow version : 2.7.0\n",
      "Numpy version : 1.22.1\n",
      "Pandas version : 1.4.0\n"
     ]
    }
   ],
   "source": [
    "import tensorflow as tf\n",
    "import numpy as np\n",
    "import pandas as pd\n",
    "import matplotlib.pyplot as plt\n",
    "\n",
    "print(\"Tensorflow version : {}\".format(tf.__version__))\n",
    "print(\"Numpy version : {}\".format(np.__version__))\n",
    "print(\"Pandas version : {}\".format(pd.__version__))"
   ]
  },
  {
   "cell_type": "code",
   "execution_count": 37,
   "metadata": {},
   "outputs": [
    {
     "name": "stdout",
     "output_type": "stream",
     "text": [
      "dataset path : c:\\Users\\Sina\\Desktop\\car-price-predictor\\Notebooks\\cleaned_data.csv\n",
      "datset shape : (6533, 15)\n"
     ]
    },
    {
     "data": {
      "text/html": [
       "<div>\n",
       "<style scoped>\n",
       "    .dataframe tbody tr th:only-of-type {\n",
       "        vertical-align: middle;\n",
       "    }\n",
       "\n",
       "    .dataframe tbody tr th {\n",
       "        vertical-align: top;\n",
       "    }\n",
       "\n",
       "    .dataframe thead th {\n",
       "        text-align: right;\n",
       "    }\n",
       "</style>\n",
       "<table border=\"1\" class=\"dataframe\">\n",
       "  <thead>\n",
       "    <tr style=\"text-align: right;\">\n",
       "      <th></th>\n",
       "      <th>Name</th>\n",
       "      <th>style</th>\n",
       "      <th>Exterior_color</th>\n",
       "      <th>interior_color</th>\n",
       "      <th>Engine</th>\n",
       "      <th>drive_type</th>\n",
       "      <th>Fuel_Type</th>\n",
       "      <th>Transmission</th>\n",
       "      <th>Mileage</th>\n",
       "      <th>mpg_city</th>\n",
       "      <th>mpg_highway</th>\n",
       "      <th>price</th>\n",
       "      <th>Year</th>\n",
       "      <th>Engine_V</th>\n",
       "      <th>Brand</th>\n",
       "    </tr>\n",
       "  </thead>\n",
       "  <tbody>\n",
       "    <tr>\n",
       "      <th>0</th>\n",
       "      <td>F-150</td>\n",
       "      <td>Pickup Truck</td>\n",
       "      <td>Oxford White</td>\n",
       "      <td>Medium Earth Gray</td>\n",
       "      <td>V-6 Gas Turbocharged</td>\n",
       "      <td>4WD</td>\n",
       "      <td>Gas</td>\n",
       "      <td>Automatic</td>\n",
       "      <td>104909</td>\n",
       "      <td>16</td>\n",
       "      <td>22</td>\n",
       "      <td>27966</td>\n",
       "      <td>2018</td>\n",
       "      <td>3.5</td>\n",
       "      <td>Ford</td>\n",
       "    </tr>\n",
       "    <tr>\n",
       "      <th>1</th>\n",
       "      <td>X5</td>\n",
       "      <td>SUV</td>\n",
       "      <td>Mineral White Metallic</td>\n",
       "      <td>Cognac</td>\n",
       "      <td>Inline-6 Gas Turbocharged</td>\n",
       "      <td>AWD</td>\n",
       "      <td>Gas</td>\n",
       "      <td>Automatic</td>\n",
       "      <td>51863</td>\n",
       "      <td>20</td>\n",
       "      <td>26</td>\n",
       "      <td>52900</td>\n",
       "      <td>2019</td>\n",
       "      <td>3.0</td>\n",
       "      <td>BMW</td>\n",
       "    </tr>\n",
       "    <tr>\n",
       "      <th>2</th>\n",
       "      <td>Altima</td>\n",
       "      <td>Sedan</td>\n",
       "      <td>Cayenne Red</td>\n",
       "      <td>Charcoal</td>\n",
       "      <td>Inline-4 Gas</td>\n",
       "      <td>FWD</td>\n",
       "      <td>Gas</td>\n",
       "      <td>Automatic</td>\n",
       "      <td>219674</td>\n",
       "      <td>27</td>\n",
       "      <td>38</td>\n",
       "      <td>7500</td>\n",
       "      <td>2015</td>\n",
       "      <td>2.5</td>\n",
       "      <td>Nissan</td>\n",
       "    </tr>\n",
       "  </tbody>\n",
       "</table>\n",
       "</div>"
      ],
      "text/plain": [
       "     Name         style          Exterior_color     interior_color  \\\n",
       "0   F-150  Pickup Truck            Oxford White  Medium Earth Gray   \n",
       "1      X5           SUV  Mineral White Metallic             Cognac   \n",
       "2  Altima         Sedan             Cayenne Red           Charcoal   \n",
       "\n",
       "                      Engine drive_type Fuel_Type Transmission Mileage  \\\n",
       "0       V-6 Gas Turbocharged        4WD       Gas    Automatic  104909   \n",
       "1  Inline-6 Gas Turbocharged        AWD       Gas    Automatic   51863   \n",
       "2               Inline-4 Gas        FWD       Gas    Automatic  219674   \n",
       "\n",
       "  mpg_city mpg_highway  price  Year Engine_V   Brand  \n",
       "0       16          22  27966  2018      3.5    Ford  \n",
       "1       20          26  52900  2019      3.0     BMW  \n",
       "2       27          38   7500  2015      2.5  Nissan  "
      ]
     },
     "execution_count": 37,
     "metadata": {},
     "output_type": "execute_result"
    }
   ],
   "source": [
    "from pathlib import Path\n",
    "DATASET_PATH = Path.cwd().parent / \"cleaned_data.csv\"\n",
    "print(f\"dataset path : {DATASET_PATH}\")\n",
    "\n",
    "def shuffle(df, n_iter=10):\n",
    "    df = df.copy()\n",
    "    for _ in range(n_iter):\n",
    "        df = df.sample(frac=1)\n",
    "\n",
    "    return df.reset_index(drop=True)\n",
    "\n",
    "cols = ['Name', 'style', 'Exterior_color', 'interior_color', 'Engine',\n",
    "       'drive_type', 'Fuel_Type', 'Transmission', 'Mileage', 'mpg_city',\n",
    "       'mpg_highway', 'price', 'Year', 'Engine_V', 'Brand']\n",
    "\n",
    "cars = pd.read_csv(DATASET_PATH, names=cols)\n",
    "cars = shuffle(cars, n_iter=10)\n",
    "print(f\"datset shape : {cars.shape}\")\n",
    "cars.head(3)"
   ]
  },
  {
   "cell_type": "code",
   "execution_count": 38,
   "metadata": {},
   "outputs": [
    {
     "name": "stdout",
     "output_type": "stream",
     "text": [
      "<class 'pandas.core.frame.DataFrame'>\n",
      "RangeIndex: 6533 entries, 0 to 6532\n",
      "Data columns (total 15 columns):\n",
      " #   Column          Non-Null Count  Dtype \n",
      "---  ------          --------------  ----- \n",
      " 0   Name            6292 non-null   object\n",
      " 1   style           6533 non-null   object\n",
      " 2   Exterior_color  6533 non-null   object\n",
      " 3   interior_color  6533 non-null   object\n",
      " 4   Engine          6533 non-null   object\n",
      " 5   drive_type      6533 non-null   object\n",
      " 6   Fuel_Type       6533 non-null   object\n",
      " 7   Transmission    6533 non-null   object\n",
      " 8   Mileage         6533 non-null   object\n",
      " 9   mpg_city        6533 non-null   object\n",
      " 10  mpg_highway     6533 non-null   object\n",
      " 11  price           6533 non-null   object\n",
      " 12  Year            6533 non-null   object\n",
      " 13  Engine_V        6533 non-null   object\n",
      " 14  Brand           6533 non-null   object\n",
      "dtypes: object(15)\n",
      "memory usage: 765.7+ KB\n"
     ]
    }
   ],
   "source": [
    "cars.info()"
   ]
  },
  {
   "cell_type": "code",
   "execution_count": 39,
   "metadata": {},
   "outputs": [
    {
     "data": {
      "text/plain": [
       "(6292, 15)"
      ]
     },
     "execution_count": 39,
     "metadata": {},
     "output_type": "execute_result"
    }
   ],
   "source": [
    "cars = cars.dropna().reset_index(drop=True)\n",
    "cars.shape"
   ]
  },
  {
   "cell_type": "code",
   "execution_count": 40,
   "metadata": {},
   "outputs": [
    {
     "name": "stdout",
     "output_type": "stream",
     "text": [
      "none-numeric value available with index(s) : Int64Index([312], dtype='int64')\n",
      "dataet shape : (6291, 15)\n"
     ]
    }
   ],
   "source": [
    "i = cars[cars.Mileage.str.isdigit() == False].index\n",
    "print(f\"none-numeric value available with index(s) : {i}\")\n",
    "cars.drop(i, axis=0, inplace=True)\n",
    "print(f\"dataet shape : {cars.shape}\")"
   ]
  },
  {
   "cell_type": "code",
   "execution_count": 42,
   "metadata": {},
   "outputs": [],
   "source": [
    "cars = cars.astype({\"Mileage\" : np.int32, \"mpg_city\" : np.int8, \"mpg_highway\" : np.int8,\n",
    "                    \"price\" : np.int32, \"Year\" : np.int32, \"Engine_V\" : np.float32})"
   ]
  },
  {
   "cell_type": "code",
   "execution_count": 43,
   "metadata": {},
   "outputs": [
    {
     "data": {
      "text/html": [
       "<div>\n",
       "<style scoped>\n",
       "    .dataframe tbody tr th:only-of-type {\n",
       "        vertical-align: middle;\n",
       "    }\n",
       "\n",
       "    .dataframe tbody tr th {\n",
       "        vertical-align: top;\n",
       "    }\n",
       "\n",
       "    .dataframe thead th {\n",
       "        text-align: right;\n",
       "    }\n",
       "</style>\n",
       "<table border=\"1\" class=\"dataframe\">\n",
       "  <thead>\n",
       "    <tr style=\"text-align: right;\">\n",
       "      <th></th>\n",
       "      <th>Name</th>\n",
       "      <th>style</th>\n",
       "      <th>Exterior_color</th>\n",
       "      <th>interior_color</th>\n",
       "      <th>Engine</th>\n",
       "      <th>drive_type</th>\n",
       "      <th>Fuel_Type</th>\n",
       "      <th>Transmission</th>\n",
       "      <th>Mileage</th>\n",
       "      <th>mpg_city</th>\n",
       "      <th>mpg_highway</th>\n",
       "      <th>price</th>\n",
       "      <th>Year</th>\n",
       "      <th>Engine_V</th>\n",
       "      <th>Brand</th>\n",
       "    </tr>\n",
       "  </thead>\n",
       "  <tbody>\n",
       "    <tr>\n",
       "      <th>count</th>\n",
       "      <td>6291</td>\n",
       "      <td>6291</td>\n",
       "      <td>6291</td>\n",
       "      <td>6291</td>\n",
       "      <td>6291</td>\n",
       "      <td>6291</td>\n",
       "      <td>6291</td>\n",
       "      <td>6291</td>\n",
       "      <td>6291.000000</td>\n",
       "      <td>6291.000000</td>\n",
       "      <td>6291.000000</td>\n",
       "      <td>6291.000000</td>\n",
       "      <td>6291.000000</td>\n",
       "      <td>6291.000000</td>\n",
       "      <td>6291</td>\n",
       "    </tr>\n",
       "    <tr>\n",
       "      <th>unique</th>\n",
       "      <td>268</td>\n",
       "      <td>9</td>\n",
       "      <td>526</td>\n",
       "      <td>305</td>\n",
       "      <td>30</td>\n",
       "      <td>4</td>\n",
       "      <td>3</td>\n",
       "      <td>2</td>\n",
       "      <td>NaN</td>\n",
       "      <td>NaN</td>\n",
       "      <td>NaN</td>\n",
       "      <td>NaN</td>\n",
       "      <td>NaN</td>\n",
       "      <td>NaN</td>\n",
       "      <td>43</td>\n",
       "    </tr>\n",
       "    <tr>\n",
       "      <th>top</th>\n",
       "      <td>F-150</td>\n",
       "      <td>SUV</td>\n",
       "      <td>Black</td>\n",
       "      <td>Black</td>\n",
       "      <td>Inline-4 Gas</td>\n",
       "      <td>FWD</td>\n",
       "      <td>Gas</td>\n",
       "      <td>Automatic</td>\n",
       "      <td>NaN</td>\n",
       "      <td>NaN</td>\n",
       "      <td>NaN</td>\n",
       "      <td>NaN</td>\n",
       "      <td>NaN</td>\n",
       "      <td>NaN</td>\n",
       "      <td>Ford</td>\n",
       "    </tr>\n",
       "    <tr>\n",
       "      <th>freq</th>\n",
       "      <td>1238</td>\n",
       "      <td>2084</td>\n",
       "      <td>447</td>\n",
       "      <td>2112</td>\n",
       "      <td>1682</td>\n",
       "      <td>2628</td>\n",
       "      <td>6236</td>\n",
       "      <td>6172</td>\n",
       "      <td>NaN</td>\n",
       "      <td>NaN</td>\n",
       "      <td>NaN</td>\n",
       "      <td>NaN</td>\n",
       "      <td>NaN</td>\n",
       "      <td>NaN</td>\n",
       "      <td>2017</td>\n",
       "    </tr>\n",
       "    <tr>\n",
       "      <th>mean</th>\n",
       "      <td>NaN</td>\n",
       "      <td>NaN</td>\n",
       "      <td>NaN</td>\n",
       "      <td>NaN</td>\n",
       "      <td>NaN</td>\n",
       "      <td>NaN</td>\n",
       "      <td>NaN</td>\n",
       "      <td>NaN</td>\n",
       "      <td>63799.074710</td>\n",
       "      <td>21.384677</td>\n",
       "      <td>28.478779</td>\n",
       "      <td>26076.222222</td>\n",
       "      <td>2017.224130</td>\n",
       "      <td>2.963853</td>\n",
       "      <td>NaN</td>\n",
       "    </tr>\n",
       "    <tr>\n",
       "      <th>std</th>\n",
       "      <td>NaN</td>\n",
       "      <td>NaN</td>\n",
       "      <td>NaN</td>\n",
       "      <td>NaN</td>\n",
       "      <td>NaN</td>\n",
       "      <td>NaN</td>\n",
       "      <td>NaN</td>\n",
       "      <td>NaN</td>\n",
       "      <td>42846.042218</td>\n",
       "      <td>5.059630</td>\n",
       "      <td>6.257535</td>\n",
       "      <td>11087.348287</td>\n",
       "      <td>3.010157</td>\n",
       "      <td>1.187808</td>\n",
       "      <td>NaN</td>\n",
       "    </tr>\n",
       "    <tr>\n",
       "      <th>min</th>\n",
       "      <td>NaN</td>\n",
       "      <td>NaN</td>\n",
       "      <td>NaN</td>\n",
       "      <td>NaN</td>\n",
       "      <td>NaN</td>\n",
       "      <td>NaN</td>\n",
       "      <td>NaN</td>\n",
       "      <td>NaN</td>\n",
       "      <td>143.000000</td>\n",
       "      <td>10.000000</td>\n",
       "      <td>16.000000</td>\n",
       "      <td>2000.000000</td>\n",
       "      <td>1997.000000</td>\n",
       "      <td>1.000000</td>\n",
       "      <td>NaN</td>\n",
       "    </tr>\n",
       "    <tr>\n",
       "      <th>25%</th>\n",
       "      <td>NaN</td>\n",
       "      <td>NaN</td>\n",
       "      <td>NaN</td>\n",
       "      <td>NaN</td>\n",
       "      <td>NaN</td>\n",
       "      <td>NaN</td>\n",
       "      <td>NaN</td>\n",
       "      <td>NaN</td>\n",
       "      <td>32078.000000</td>\n",
       "      <td>18.000000</td>\n",
       "      <td>23.000000</td>\n",
       "      <td>17990.000000</td>\n",
       "      <td>2017.000000</td>\n",
       "      <td>2.000000</td>\n",
       "      <td>NaN</td>\n",
       "    </tr>\n",
       "    <tr>\n",
       "      <th>50%</th>\n",
       "      <td>NaN</td>\n",
       "      <td>NaN</td>\n",
       "      <td>NaN</td>\n",
       "      <td>NaN</td>\n",
       "      <td>NaN</td>\n",
       "      <td>NaN</td>\n",
       "      <td>NaN</td>\n",
       "      <td>NaN</td>\n",
       "      <td>52443.000000</td>\n",
       "      <td>20.000000</td>\n",
       "      <td>27.000000</td>\n",
       "      <td>24999.000000</td>\n",
       "      <td>2018.000000</td>\n",
       "      <td>2.500000</td>\n",
       "      <td>NaN</td>\n",
       "    </tr>\n",
       "    <tr>\n",
       "      <th>75%</th>\n",
       "      <td>NaN</td>\n",
       "      <td>NaN</td>\n",
       "      <td>NaN</td>\n",
       "      <td>NaN</td>\n",
       "      <td>NaN</td>\n",
       "      <td>NaN</td>\n",
       "      <td>NaN</td>\n",
       "      <td>NaN</td>\n",
       "      <td>86788.000000</td>\n",
       "      <td>25.000000</td>\n",
       "      <td>34.000000</td>\n",
       "      <td>33951.500000</td>\n",
       "      <td>2019.000000</td>\n",
       "      <td>3.600000</td>\n",
       "      <td>NaN</td>\n",
       "    </tr>\n",
       "    <tr>\n",
       "      <th>max</th>\n",
       "      <td>NaN</td>\n",
       "      <td>NaN</td>\n",
       "      <td>NaN</td>\n",
       "      <td>NaN</td>\n",
       "      <td>NaN</td>\n",
       "      <td>NaN</td>\n",
       "      <td>NaN</td>\n",
       "      <td>NaN</td>\n",
       "      <td>380309.000000</td>\n",
       "      <td>60.000000</td>\n",
       "      <td>53.000000</td>\n",
       "      <td>115500.000000</td>\n",
       "      <td>2021.000000</td>\n",
       "      <td>6.400000</td>\n",
       "      <td>NaN</td>\n",
       "    </tr>\n",
       "  </tbody>\n",
       "</table>\n",
       "</div>"
      ],
      "text/plain": [
       "         Name style Exterior_color interior_color        Engine drive_type  \\\n",
       "count    6291  6291           6291           6291          6291       6291   \n",
       "unique    268     9            526            305            30          4   \n",
       "top     F-150   SUV          Black          Black  Inline-4 Gas        FWD   \n",
       "freq     1238  2084            447           2112          1682       2628   \n",
       "mean      NaN   NaN            NaN            NaN           NaN        NaN   \n",
       "std       NaN   NaN            NaN            NaN           NaN        NaN   \n",
       "min       NaN   NaN            NaN            NaN           NaN        NaN   \n",
       "25%       NaN   NaN            NaN            NaN           NaN        NaN   \n",
       "50%       NaN   NaN            NaN            NaN           NaN        NaN   \n",
       "75%       NaN   NaN            NaN            NaN           NaN        NaN   \n",
       "max       NaN   NaN            NaN            NaN           NaN        NaN   \n",
       "\n",
       "       Fuel_Type Transmission        Mileage     mpg_city  mpg_highway  \\\n",
       "count       6291         6291    6291.000000  6291.000000  6291.000000   \n",
       "unique         3            2            NaN          NaN          NaN   \n",
       "top          Gas    Automatic            NaN          NaN          NaN   \n",
       "freq        6236         6172            NaN          NaN          NaN   \n",
       "mean         NaN          NaN   63799.074710    21.384677    28.478779   \n",
       "std          NaN          NaN   42846.042218     5.059630     6.257535   \n",
       "min          NaN          NaN     143.000000    10.000000    16.000000   \n",
       "25%          NaN          NaN   32078.000000    18.000000    23.000000   \n",
       "50%          NaN          NaN   52443.000000    20.000000    27.000000   \n",
       "75%          NaN          NaN   86788.000000    25.000000    34.000000   \n",
       "max          NaN          NaN  380309.000000    60.000000    53.000000   \n",
       "\n",
       "                price         Year     Engine_V Brand  \n",
       "count     6291.000000  6291.000000  6291.000000  6291  \n",
       "unique            NaN          NaN          NaN    43  \n",
       "top               NaN          NaN          NaN  Ford  \n",
       "freq              NaN          NaN          NaN  2017  \n",
       "mean     26076.222222  2017.224130     2.963853   NaN  \n",
       "std      11087.348287     3.010157     1.187808   NaN  \n",
       "min       2000.000000  1997.000000     1.000000   NaN  \n",
       "25%      17990.000000  2017.000000     2.000000   NaN  \n",
       "50%      24999.000000  2018.000000     2.500000   NaN  \n",
       "75%      33951.500000  2019.000000     3.600000   NaN  \n",
       "max     115500.000000  2021.000000     6.400000   NaN  "
      ]
     },
     "execution_count": 43,
     "metadata": {},
     "output_type": "execute_result"
    }
   ],
   "source": [
    "cars.describe(include=\"all\")"
   ]
  },
  {
   "cell_type": "code",
   "execution_count": 44,
   "metadata": {},
   "outputs": [
    {
     "data": {
      "image/png": "[encoded data removed]",
      "text/plain": [
       "<Figure size 1440x648 with 6 Axes>"
      ]
     },
     "metadata": {
      "needs_background": "light"
     },
     "output_type": "display_data"
    }
   ],
   "source": [
    "fig , axes = plt.subplots(nrows=2, ncols=3, figsize=(20,9))\n",
    "\n",
    "target = cars[\"price\"]\n",
    "features = ['style', 'Mileage', 'mpg_city',\n",
    "            'mpg_highway', 'Year', 'price']\n",
    "\n",
    "axes = axes.flatten()\n",
    "for i in range(6):\n",
    "    feature = features[i]\n",
    "    axes[i].plot(cars[feature], target, \"bo\")\n",
    "    axes[i].set_xlabel(feature)\n",
    "    axes[i].set_ylabel(\"price\")\n",
    "\n",
    "plt.show()"
   ]
  },
  {
   "cell_type": "code",
   "execution_count": 45,
   "metadata": {},
   "outputs": [
    {
     "name": "stdout",
     "output_type": "stream",
     "text": [
      "Training Dataset shape : (5033, 15)\n",
      "Testing Dataset shape : (1258, 15)\n"
     ]
    }
   ],
   "source": [
    "TRAIN_SIZE = 0.80\n",
    "number_of_samples = cars.shape[0]\n",
    "number_of_training_samples = int(np.ceil(number_of_samples * TRAIN_SIZE))\n",
    "\n",
    "df_train = cars.iloc[:number_of_training_samples , :]\n",
    "df_eval  = cars.iloc[number_of_training_samples : , :]\n",
    "\n",
    "print(f\"Training Dataset shape : {df_train.shape}\")\n",
    "print(f\"Testing Dataset shape : {df_eval.shape}\")"
   ]
  },
  {
   "cell_type": "code",
   "execution_count": 46,
   "metadata": {},
   "outputs": [
    {
     "data": {
      "text/plain": [
       "Index(['Name', 'style', 'Exterior_color', 'interior_color', 'Engine',\n",
       "       'drive_type', 'Fuel_Type', 'Transmission', 'Mileage', 'mpg_city',\n",
       "       'mpg_highway', 'price', 'Year', 'Engine_V', 'Brand'],\n",
       "      dtype='object')"
      ]
     },
     "execution_count": 46,
     "metadata": {},
     "output_type": "execute_result"
    }
   ],
   "source": [
    "columns = cars.columns\n",
    "columns"
   ]
  },
  {
   "cell_type": "code",
   "execution_count": 47,
   "metadata": {},
   "outputs": [
    {
     "name": "stdout",
     "output_type": "stream",
     "text": [
      "number of categorical features : 9\n",
      "number of numerical features : 5\n",
      "total number of columns : 14\n"
     ]
    }
   ],
   "source": [
    "categorical_columns = ['Name', 'style', 'Exterior_color', 'interior_color', 'Engine',\n",
    "                       'drive_type', 'Fuel_Type', 'Transmission', 'Brand']\n",
    "numerical_columns = ['Mileage', 'mpg_city',\n",
    "                     'mpg_highway', 'Year', 'Engine_V']\n",
    "\n",
    "categorical_features = []\n",
    "for col_name in categorical_columns:\n",
    "    vocabulary =  cars[col_name].unique()\n",
    "    categorical_features.append(\n",
    "        tf.feature_column.categorical_column_with_vocabulary_list(key=col_name,\n",
    "                                                                  vocabulary_list=vocabulary,))\n",
    "numerical_features = []\n",
    "for col_name in numerical_columns:\n",
    "    numerical_features.append(\n",
    "        tf.feature_column.numeric_column(key=col_name, dtype=tf.float32))\n",
    "\n",
    "feature_columns = categorical_features + numerical_features\n",
    "\n",
    "print(f\"number of categorical features : {len(categorical_features)}\")\n",
    "print(f\"number of numerical features : {len(numerical_features)}\")\n",
    "print(f\"total number of columns : {len(feature_columns)}\")"
   ]
  },
  {
   "cell_type": "code",
   "execution_count": 48,
   "metadata": {},
   "outputs": [],
   "source": [
    "def train_input_fn():\n",
    "    df = df_train.copy()\n",
    "    data_df, label_df = df, df.pop(\"price\")\n",
    "    dataset = tf.data.Dataset.from_tensor_slices(\n",
    "        (dict(data_df), label_df)\n",
    "    )\n",
    "    if shuffle:\n",
    "        dataset = dataset.shuffle(1000)\n",
    "    dataset = dataset.batch(32)\n",
    "    return dataset\n",
    "\n",
    "def test_input_fn():\n",
    "    df = df_eval.copy()\n",
    "    data_df, label_df = df, df.pop(\"price\")\n",
    "    dataset = tf.data.Dataset.from_tensor_slices(\n",
    "        (dict(data_df), label_df)\n",
    "    )\n",
    "    if shuffle:\n",
    "        dataset = dataset.shuffle(1000)\n",
    "    dataset = dataset.batch(32)\n",
    "    return dataset\n",
    "\n",
    "df_train_fn = train_input_fn()\n",
    "df_eval_fn  = test_input_fn()"
   ]
  },
  {
   "cell_type": "code",
   "execution_count": 49,
   "metadata": {},
   "outputs": [
    {
     "name": "stdout",
     "output_type": "stream",
     "text": [
      "INFO:tensorflow:Using default config.\n",
      "INFO:tensorflow:Using config: {'_model_dir': 'c:\\\\Users\\\\Sina\\\\Desktop\\\\car-price-predictor\\\\Notebooks\\\\deep-learning-approach\\\\saved_model', '_tf_random_seed': None, '_save_summary_steps': 100, '_save_checkpoints_steps': None, '_save_checkpoints_secs': 600, '_session_config': allow_soft_placement: true\n",
      "graph_options {\n",
      "  rewrite_options {\n",
      "    meta_optimizer_iterations: ONE\n",
      "  }\n",
      "}\n",
      ", '_keep_checkpoint_max': 5, '_keep_checkpoint_every_n_hours': 10000, '_log_step_count_steps': 100, '_train_distribute': None, '_device_fn': None, '_protocol': None, '_eval_distribute': None, '_experimental_distribute': None, '_experimental_max_worker_delay_secs': None, '_session_creation_timeout_secs': 7200, '_checkpoint_save_graph_def': True, '_service': None, '_cluster_spec': ClusterSpec({}), '_task_type': 'worker', '_task_id': 0, '_global_id_in_cluster': 0, '_master': '', '_evaluation_master': '', '_is_chief': True, '_num_ps_replicas': 0, '_num_worker_replicas': 1}\n",
      "WARNING:tensorflow:From C:\\Users\\Sina\\AppData\\Local\\Programs\\Python\\Python39\\lib\\site-packages\\tensorflow\\python\\training\\training_util.py:400: Variable.initialized_value (from tensorflow.python.ops.variables) is deprecated and will be removed in a future version.\n",
      "Instructions for updating:\n",
      "Use Variable.read_value. Variables in 2.X are initialized automatically both in eager and graph (inside tf.defun) contexts.\n",
      "INFO:tensorflow:Calling model_fn.\n"
     ]
    },
    {
     "name": "stderr",
     "output_type": "stream",
     "text": [
      "C:\\Users\\Sina\\AppData\\Roaming\\Python\\Python39\\site-packages\\tensorflow_estimator\\python\\estimator\\canned\\linear.py:1468: UserWarning: `layer.add_variable` is deprecated and will be removed in a future version. Please use `layer.add_weight` method instead.\n",
      "  self.bias = self.add_variable(\n"
     ]
    },
    {
     "name": "stdout",
     "output_type": "stream",
     "text": [
      "WARNING:tensorflow:From C:\\Users\\Sina\\AppData\\Roaming\\Python\\Python39\\site-packages\\keras\\optimizer_v2\\ftrl.py:148: calling Constant.__init__ (from tensorflow.python.ops.init_ops) with dtype is deprecated and will be removed in a future version.\n",
      "Instructions for updating:\n",
      "Call initializer instance with the dtype argument instead of passing it to the constructor\n",
      "INFO:tensorflow:Done calling model_fn.\n",
      "INFO:tensorflow:Create CheckpointSaverHook.\n",
      "INFO:tensorflow:Graph was finalized.\n",
      "INFO:tensorflow:Running local_init_op.\n",
      "INFO:tensorflow:Done running local_init_op.\n",
      "INFO:tensorflow:Calling checkpoint listeners before saving checkpoint 0...\n",
      "INFO:tensorflow:Saving checkpoints for 0 into c:\\Users\\Sina\\Desktop\\car-price-predictor\\Notebooks\\deep-learning-approach\\saved_model\\model.ckpt.\n",
      "INFO:tensorflow:Calling checkpoint listeners after saving checkpoint 0...\n",
      "INFO:tensorflow:loss = 924744060.0, step = 0\n",
      "INFO:tensorflow:global_step/sec: 166.216\n",
      "INFO:tensorflow:loss = 340672400.0, step = 100 (0.604 sec)\n",
      "INFO:tensorflow:Calling checkpoint listeners before saving checkpoint 158...\n",
      "INFO:tensorflow:Saving checkpoints for 158 into c:\\Users\\Sina\\Desktop\\car-price-predictor\\Notebooks\\deep-learning-approach\\saved_model\\model.ckpt.\n",
      "INFO:tensorflow:Calling checkpoint listeners after saving checkpoint 158...\n",
      "INFO:tensorflow:Loss for final step: 232167150.0.\n",
      "INFO:tensorflow:Calling model_fn.\n"
     ]
    },
    {
     "name": "stderr",
     "output_type": "stream",
     "text": [
      "C:\\Users\\Sina\\AppData\\Roaming\\Python\\Python39\\site-packages\\tensorflow_estimator\\python\\estimator\\canned\\linear.py:1468: UserWarning: `layer.add_variable` is deprecated and will be removed in a future version. Please use `layer.add_weight` method instead.\n",
      "  self.bias = self.add_variable(\n"
     ]
    },
    {
     "name": "stdout",
     "output_type": "stream",
     "text": [
      "INFO:tensorflow:Done calling model_fn.\n",
      "INFO:tensorflow:Starting evaluation at 2022-02-18T23:26:33\n",
      "INFO:tensorflow:Graph was finalized.\n",
      "INFO:tensorflow:Restoring parameters from c:\\Users\\Sina\\Desktop\\car-price-predictor\\Notebooks\\deep-learning-approach\\saved_model\\model.ckpt-158\n",
      "INFO:tensorflow:Running local_init_op.\n",
      "INFO:tensorflow:Done running local_init_op.\n",
      "INFO:tensorflow:Inference Time : 0.95041s\n",
      "INFO:tensorflow:Finished evaluation at 2022-02-18-23:26:34\n",
      "INFO:tensorflow:Saving dict for global step 158: average_loss = 320753630.0, global_step = 158, label/mean = 25765.584, loss = 319917860.0, prediction/mean = 17745.428\n",
      "INFO:tensorflow:Saving 'checkpoint_path' summary for global step 158: c:\\Users\\Sina\\Desktop\\car-price-predictor\\Notebooks\\deep-learning-approach\\saved_model\\model.ckpt-158\n",
      "{'average_loss': 320753630.0, 'label/mean': 25765.584, 'loss': 319917860.0, 'prediction/mean': 17745.428, 'global_step': 158}\n"
     ]
    }
   ],
   "source": [
    "linear_model = tf.estimator.LinearRegressor(feature_columns=feature_columns,\n",
    "                                            model_dir=Path.cwd() / \"saved_model\")\n",
    "linear_model.train(input_fn=train_input_fn)\n",
    "result = linear_model.evaluate(input_fn=test_input_fn)\n",
    "\n",
    "print(result)"
   ]
  }
 ],
 "metadata": {
  "interpreter": {
   "hash": "d03e07efc5f58eca12f60c99636b4b2dda7e46327a987d1c8dfa231c36cce13a"
  },
  "kernelspec": {
   "display_name": "Python 3.9.7 64-bit",
   "language": "python",
   "name": "python3"
  },
  "language_info": {
   "codemirror_mode": {
    "name": "ipython",
    "version": 3
   },
   "file_extension": ".py",
   "mimetype": "text/x-python",
   "name": "python",
   "nbconvert_exporter": "python",
   "pygments_lexer": "ipython3",
   "version": "3.9.7"
  },
  "orig_nbformat": 4
 },
 "nbformat": 4,
 "nbformat_minor": 2
}
